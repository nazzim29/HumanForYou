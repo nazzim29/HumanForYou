{
 "cells": [
  {
   "cell_type": "markdown",
   "id": "aca1afdf",
   "metadata": {
    "jp-MarkdownHeadingCollapsed": true,
    "tags": []
   },
   "source": [
    "## imports"
   ]
  },
  {
   "cell_type": "code",
   "execution_count": null,
   "id": "8afd3b50",
   "metadata": {},
   "outputs": [],
   "source": [
    "# Pipelines imports\n",
    "from sklearn.impute import SimpleImputer\n",
    "from sklearn.pipeline import Pipeline\n",
    "from sklearn.preprocessing import StandardScaler\n",
    "from sklearn.compose import ColumnTransformer\n",
    "from sklearn.preprocessing import OrdinalEncoder\n",
    "from sklearn.preprocessing import OneHotEncoder\n",
    "from sklearn.model_selection import train_test_split\n",
    "from sklearn.model_selection import StratifiedShuffleSplit\n",
    "from sklearn.model_selection import GridSearchCV\n",
    "from sklearn.model_selection import cross_val_score\n",
    "from sklearn.model_selection import cross_val_predict\n",
    "from sklearn.linear_model import SGDClassifier\n",
    "from sklearn.metrics import precision_score, recall_score, f1_score, accuracy_score\n",
    "from sklearn.metrics import confusion_matrix\n",
    "from sklearn.metrics import precision_recall_curve,roc_curve\n"
   ]
  },
  {
   "cell_type": "code",
   "execution_count": null,
   "id": "331f0c8a",
   "metadata": {},
   "outputs": [],
   "source": [
    "import numpy as np\n",
    "import pandas as pd\n",
    "import os\n",
    "import matplotlib.pyplot as plt\n",
    "import warnings\n",
    "warnings.filterwarnings('ignore')\n"
   ]
  },
  {
   "cell_type": "code",
   "execution_count": null,
   "id": "ff085a5f",
   "metadata": {},
   "outputs": [],
   "source": [
    "def plot_roc_curve(fpr, tpr, label=None):\n",
    "    plt.plot(fpr, tpr, linewidth=2, label=label)\n",
    "    plt.plot([0, 1], [0, 1], 'k--')\n",
    "    plt.axis([0, 1.5, 0, 1])\n",
    "    plt.xlabel('False Positive Rate', fontsize=16)\n",
    "    plt.ylabel('True Positive Rate', fontsize=16)\n",
    "    plt.legend(loc=\"lower right\", fontsize=16)\n"
   ]
  },
  {
   "cell_type": "code",
   "execution_count": null,
   "id": "73588335",
   "metadata": {},
   "outputs": [],
   "source": [
    "\n",
    "\n",
    "data_path = os.path.join(os.path.curdir, 'data')\n",
    "print(os.getcwd())\n",
    "# loadit les csv\n",
    "general_data_brute = pd.read_csv(os.path.join(data_path, 'general_data.csv'))\n",
    "in_time_brute = pd.read_csv(os.path.join(data_path, 'in_time.csv'))\n",
    "out_time_brute = pd.read_csv(os.path.join(data_path, 'out_time.csv'))\n",
    "manager_survey_data_brute = pd.read_csv(\n",
    "    os.path.join(data_path, 'manager_survey_data.csv'))\n",
    "employee_survey_data_brute = pd.read_csv(\n",
    "    os.path.join(data_path, 'employee_survey_data.csv'))\n"
   ]
  },
  {
   "cell_type": "code",
   "execution_count": null,
   "id": "e299bc7c",
   "metadata": {},
   "outputs": [],
   "source": [
    "pd.set_option('display.max_columns', None)\n"
   ]
  },
  {
   "cell_type": "markdown",
   "id": "8d354b24",
   "metadata": {
    "jp-MarkdownHeadingCollapsed": true,
    "tags": []
   },
   "source": [
    "## Data Info"
   ]
  },
  {
   "cell_type": "code",
   "execution_count": null,
   "id": "9e768aaf",
   "metadata": {},
   "outputs": [],
   "source": [
    "general_data_brute.head()  # affichit head tae csv\n"
   ]
  },
  {
   "cell_type": "code",
   "execution_count": null,
   "id": "74b9bd66",
   "metadata": {},
   "outputs": [],
   "source": [
    "general_data_brute.describe()  # descriptit general data\n"
   ]
  },
  {
   "cell_type": "code",
   "execution_count": null,
   "id": "5e33aa07",
   "metadata": {},
   "outputs": [],
   "source": [
    "general_data_brute.info()  # affichit les infos ta3 chaque collone\n"
   ]
  },
  {
   "cell_type": "code",
   "execution_count": null,
   "id": "a367eb26",
   "metadata": {},
   "outputs": [],
   "source": [
    "general_data_brute.hist(bins=20, figsize=(20, 15))\n",
    "plt.show()\n",
    "\n",
    "# affichit histogramme tae dataset general\n"
   ]
  },
  {
   "cell_type": "code",
   "execution_count": null,
   "id": "0a6bb678",
   "metadata": {},
   "outputs": [],
   "source": [
    "manager_survey_data_brute.head()\n"
   ]
  },
  {
   "cell_type": "code",
   "execution_count": null,
   "id": "e5c4770e",
   "metadata": {},
   "outputs": [],
   "source": [
    "manager_survey_data_brute.describe()\n"
   ]
  },
  {
   "cell_type": "code",
   "execution_count": null,
   "id": "551a9dfb",
   "metadata": {},
   "outputs": [],
   "source": [
    "manager_survey_data_brute.hist(bins=20, figsize=(20, 15))\n",
    "plt.show()\n"
   ]
  },
  {
   "cell_type": "code",
   "execution_count": null,
   "id": "f82ac6c6",
   "metadata": {},
   "outputs": [],
   "source": [
    "employee_survey_data_brute.head()\n"
   ]
  },
  {
   "cell_type": "code",
   "execution_count": null,
   "id": "c0131b36",
   "metadata": {},
   "outputs": [],
   "source": [
    "employee_survey_data_brute.describe()\n"
   ]
  },
  {
   "cell_type": "code",
   "execution_count": null,
   "id": "9d5177ea",
   "metadata": {},
   "outputs": [],
   "source": [
    "employee_survey_data_brute.hist(bins=20, figsize=(20, 15))\n",
    "plt.show()\n"
   ]
  },
  {
   "cell_type": "markdown",
   "id": "302270f9",
   "metadata": {
    "jp-MarkdownHeadingCollapsed": true,
    "tags": []
   },
   "source": [
    "## Pre-traitement"
   ]
  },
  {
   "cell_type": "code",
   "execution_count": null,
   "id": "15d15d0b",
   "metadata": {},
   "outputs": [],
   "source": [
    "general_data = general_data_brute.drop('Over18', axis=1)\n",
    "general_data = general_data.drop('StandardHours', axis=1)\n",
    "general_data = general_data.drop('EmployeeCount', axis=1)\n",
    "\n",
    "\n",
    "# deletit zoudj les collone\n"
   ]
  },
  {
   "cell_type": "code",
   "execution_count": null,
   "id": "cffd110f",
   "metadata": {},
   "outputs": [],
   "source": [
    "general_data.head()\n"
   ]
  },
  {
   "cell_type": "code",
   "execution_count": null,
   "id": "b0a5a142",
   "metadata": {},
   "outputs": [],
   "source": [
    "in_time_brute.head()\n"
   ]
  },
  {
   "cell_type": "code",
   "execution_count": null,
   "id": "547c3368",
   "metadata": {},
   "outputs": [],
   "source": [
    "out_time = out_time_brute.copy()\n",
    "out_time['employee_id'] = out_time[out_time.columns[0]]\n",
    "out_time = out_time.drop(out_time.columns[0], axis=1)\n",
    "# segemt la collone li ma 3ndhach asem\n"
   ]
  },
  {
   "cell_type": "code",
   "execution_count": null,
   "id": "cb64b1ef",
   "metadata": {},
   "outputs": [],
   "source": [
    "in_time = in_time_brute.copy()\n",
    "in_time['employee_id'] = in_time[in_time.columns[0]]\n",
    "in_time = in_time.drop(in_time.columns[0], axis=1)\n",
    "\n",
    "# segemt la collone li ma 3ndhach asem\n"
   ]
  },
  {
   "cell_type": "code",
   "execution_count": null,
   "id": "4084cb16",
   "metadata": {},
   "outputs": [],
   "source": [
    "free_days = []\n",
    "for col in in_time.columns:\n",
    "    if in_time[col].isna().all():\n",
    "        in_time = in_time.drop(col, axis=1)\n",
    "        out_time = out_time.drop(col, axis=1)\n",
    "\n",
    "# nehit les jours ferié\n"
   ]
  },
  {
   "cell_type": "code",
   "execution_count": null,
   "id": "3a83f31c",
   "metadata": {},
   "outputs": [],
   "source": [
    "out_time.head()\n"
   ]
  },
  {
   "cell_type": "code",
   "execution_count": null,
   "id": "10fe2d13",
   "metadata": {},
   "outputs": [],
   "source": [
    "# count work hours for each employee\n",
    "from datetime import datetime, timedelta\n",
    "employees_hours = []\n",
    "additional_hours = []\n",
    "minus_hours = []\n",
    "abscences = []\n",
    "for index, row in general_data.iterrows():\n",
    "    employee_id = row['EmployeeID']\n",
    "    in_time_employee = in_time[in_time['employee_id']\n",
    "                               == employee_id].values[0]\n",
    "    out_time_employee = out_time[out_time['employee_id']\n",
    "                                 == employee_id].values[0]\n",
    "    out_time_employee = out_time_employee[:-1]\n",
    "    in_time_employee = in_time_employee[:-1]\n",
    "    abscence = np.count_nonzero(in_time_employee == 'NaN')\n",
    "    abscences.append(abscence)\n",
    "    now = datetime.now()\n",
    "    in_time_employee = np.array([datetime.strptime(\n",
    "        x, '%Y-%m-%d %H:%M:%S') if not pd.isna(x) else now for x in in_time_employee])\n",
    "    out_time_employee = np.array([datetime.strptime(\n",
    "        x, '%Y-%m-%d %H:%M:%S') if not pd.isna(x) else now for x in out_time_employee])\n",
    "\n",
    "    employee_hours = out_time_employee - in_time_employee\n",
    "    employee_hours = [x.total_seconds() for x in employee_hours]\n",
    "    employee_hours = sum(employee_hours)\n",
    "    employees_hours.append(employee_hours/(60**2))\n",
    "    nb_day = len(out_time_employee)\n",
    "    additional_hour = ((8*(nb_day))-employee_hours/(60**2))\n",
    "    if additional_hour < 0:\n",
    "        additional_hour = 0\n",
    "        minus_hour = -1 * additional_hour\n",
    "    else:\n",
    "        minus_hour = 0\n",
    "\n",
    "    additional_hours.append(additional_hour)\n",
    "    minus_hours.append(minus_hour)\n",
    "general_data['worked_hour'] = employees_hours\n",
    "general_data['additional_hour'] = additional_hours\n"
   ]
  },
  {
   "cell_type": "code",
   "execution_count": null,
   "id": "75dd42cb",
   "metadata": {},
   "outputs": [],
   "source": [
    "np.count_nonzero(abscences)\n"
   ]
  },
  {
   "cell_type": "code",
   "execution_count": null,
   "id": "06799128",
   "metadata": {},
   "outputs": [],
   "source": [
    "general_data['worked_hour']\n"
   ]
  },
  {
   "cell_type": "code",
   "execution_count": null,
   "id": "e9384ccc",
   "metadata": {},
   "outputs": [],
   "source": [
    "general_data.describe()\n"
   ]
  },
  {
   "cell_type": "code",
   "execution_count": null,
   "id": "eb30af45",
   "metadata": {},
   "outputs": [],
   "source": [
    "general_data = pd.merge(\n",
    "    general_data, employee_survey_data_brute, on=\"EmployeeID\", how='left')\n",
    "general_data\n",
    "\n",
    "# dert join bin general_data w survey_employee\n"
   ]
  },
  {
   "cell_type": "code",
   "execution_count": null,
   "id": "dba9c936",
   "metadata": {},
   "outputs": [],
   "source": [
    "general_data = pd.merge(\n",
    "    general_data, manager_survey_data_brute, on=\"EmployeeID\", how=\"left\")\n",
    "general_data['WorkLifeBalance']\n",
    "# dert join bin general_data w manager_employee\n"
   ]
  },
  {
   "cell_type": "code",
   "execution_count": null,
   "id": "8ffcc704",
   "metadata": {},
   "outputs": [],
   "source": [
    "general_data.hist(bins=20, figsize=(20, 15))\n"
   ]
  },
  {
   "cell_type": "code",
   "execution_count": null,
   "id": "83edcd29",
   "metadata": {},
   "outputs": [],
   "source": [
    "ordinal_columns = [\n",
    "    'Attrition',\n",
    "    'Gender',\n",
    "]\n",
    "onehot_columns = [\n",
    "    'Department',\n",
    "    'EducationField',\n",
    "    'JobRole',\n",
    "    'MaritalStatus',\n",
    "]\n",
    "\n",
    "one_hot_cat = []\n",
    "\n",
    "for col in onehot_columns:\n",
    "    one_hot_cat.append(general_data[col].unique())\n",
    "\n",
    "\n",
    "bussiness_travel_values = ['Non-Travel', 'Travel_Rarely', 'Travel_Frequently']\n",
    "fill_only_col = [\n",
    "    \"EnvironmentSatisfaction\", \"JobSatisfaction\", \"WorkLifeBalance\", 'NumCompaniesWorked']\n",
    "\n",
    "numeric_cols = [\n",
    "    'Age',\n",
    "    'TotalWorkingYears',\n",
    "    'worked_hour',\n",
    "    'additional_hour',\n",
    "    'DistanceFromHome',\n",
    "    'MonthlyIncome',\n",
    "    'PercentSalaryHike',\n",
    "    'StockOptionLevel',\n",
    "    'TrainingTimesLastYear',\n",
    "    'YearsAtCompany',\n",
    "    'YearsSinceLastPromotion',\n",
    "    'YearsWithCurrManager',\n",
    "]\n"
   ]
  },
  {
   "cell_type": "code",
   "execution_count": null,
   "id": "b348e206",
   "metadata": {},
   "outputs": [],
   "source": [
    "one_hot_cat"
   ]
  },
  {
   "cell_type": "code",
   "execution_count": null,
   "id": "bf13f1d8",
   "metadata": {},
   "outputs": [],
   "source": [
    "general_data['WorkLifeBalance'] = general_data['WorkLifeBalance'].astype(float)\n",
    "general_data['EnvironmentSatisfaction'] = general_data['EnvironmentSatisfaction'].astype(\n",
    "    float)\n",
    "general_data['JobSatisfaction'] = general_data['JobSatisfaction'].astype(float)\n",
    "general_data['NumCompaniesWorked'] = general_data['NumCompaniesWorked'].astype(\n",
    "    float)\n",
    "general_data['TotalWorkingYears'] = general_data['TotalWorkingYears'].astype(\n",
    "    float)\n"
   ]
  },
  {
   "cell_type": "code",
   "execution_count": null,
   "id": "3ac40fec",
   "metadata": {},
   "outputs": [],
   "source": [
    "numeric_pipline = Pipeline([\n",
    "    ('fill_na_num', SimpleImputer(strategy='median')),\n",
    "    ('standardisation', StandardScaler()),\n",
    "])\n",
    "col_transformer = ColumnTransformer([\n",
    "    ('fill_na', SimpleImputer(strategy='median'), fill_only_col),\n",
    "    ('numeric', numeric_pipline, numeric_cols),\n",
    "    (\"qualitative\", OneHotEncoder(categories=one_hot_cat), onehot_columns),\n",
    "    ('bool', OrdinalEncoder(dtype=int), ordinal_columns),\n",
    "    (\"BusinessTravel\", OrdinalEncoder(categories=[\n",
    "     bussiness_travel_values]), ['BusinessTravel'])\n",
    "])\n"
   ]
  },
  {
   "cell_type": "code",
   "execution_count": null,
   "id": "d5ff06b1",
   "metadata": {},
   "outputs": [],
   "source": [
    "pre_general_data = col_transformer.fit_transform(general_data)\n"
   ]
  },
  {
   "cell_type": "code",
   "execution_count": null,
   "id": "e728e799",
   "metadata": {},
   "outputs": [],
   "source": [
    "copy_general_data = general_data.copy()\n"
   ]
  },
  {
   "cell_type": "code",
   "execution_count": null,
   "id": "187ed0e7",
   "metadata": {},
   "outputs": [],
   "source": [
    "start = 0"
   ]
  },
  {
   "cell_type": "code",
   "execution_count": null,
   "id": "2ee69d63",
   "metadata": {},
   "outputs": [],
   "source": [
    "for col in fill_only_col:\n",
    "    general_data[col] = pre_general_data[:, start]\n",
    "    start+=1"
   ]
  },
  {
   "cell_type": "code",
   "execution_count": null,
   "id": "05f9a7c7",
   "metadata": {},
   "outputs": [],
   "source": [
    "for col in numeric_cols:\n",
    "    general_data[col] = pre_general_data[:, start]\n",
    "    start+=1\n"
   ]
  },
  {
   "cell_type": "code",
   "execution_count": null,
   "id": "f8b8d6f6",
   "metadata": {},
   "outputs": [],
   "source": [
    "\n",
    "for col in onehot_columns:\n",
    "    for v in general_data[col].unique():\n",
    "        general_data[v] = pre_general_data[:, start]\n",
    "        general_data[v] = general_data[v].astype(int)\n",
    "        start += 1\n",
    "    general_data = general_data.drop(col, axis=1)\n"
   ]
  },
  {
   "cell_type": "code",
   "execution_count": null,
   "id": "61f795c6",
   "metadata": {},
   "outputs": [],
   "source": [
    "for col in ordinal_columns:\n",
    "    general_data[col] = pre_general_data[:, start]\n",
    "    general_data[col] = general_data[col].astype(int)\n",
    "    start += 1\n",
    "    "
   ]
  },
  {
   "cell_type": "code",
   "execution_count": null,
   "id": "e09acdc9",
   "metadata": {},
   "outputs": [],
   "source": [
    "general_data['BusinessTravel'] = pre_general_data[:, start]\n",
    "general_data['BusinessTravel'] = general_data['BusinessTravel'].astype(int)\n"
   ]
  },
  {
   "cell_type": "code",
   "execution_count": null,
   "id": "de95d586",
   "metadata": {},
   "outputs": [],
   "source": [
    "general_data.tail(5)"
   ]
  },
  {
   "cell_type": "code",
   "execution_count": null,
   "id": "99e810c6",
   "metadata": {},
   "outputs": [],
   "source": [
    "corr_matrix = general_data.corr()\n",
    "corr_matrix.style.background_gradient(cmap='Wistia')\n"
   ]
  },
  {
   "cell_type": "code",
   "execution_count": null,
   "id": "b9c0d4b2",
   "metadata": {},
   "outputs": [],
   "source": [
    "import seaborn as sn \n",
    "plt.figure(figsize=(8,15))\n",
    "corr_matrix = corr_matrix.sort_values(by='Attrition', ascending=False)\n",
    "sn.heatmap(corr_matrix[['Attrition']],annot=True,cmap='Wistia',center=0,vmax=0.3)"
   ]
  },
  {
   "cell_type": "markdown",
   "id": "3e97b792",
   "metadata": {
    "jp-MarkdownHeadingCollapsed": true,
    "tags": []
   },
   "source": [
    "## Split"
   ]
  },
  {
   "cell_type": "code",
   "execution_count": null,
   "id": "343e99f5",
   "metadata": {},
   "outputs": [],
   "source": [
    "general_data = general_data.drop(\"EmployeeID\",axis=1)"
   ]
  },
  {
   "cell_type": "code",
   "execution_count": null,
   "id": "157004cb",
   "metadata": {},
   "outputs": [],
   "source": [
    "from sklearn.model_selection import train_test_split\n",
    "from sklearn.model_selection import StratifiedShuffleSplit\n",
    "\n",
    "split = StratifiedShuffleSplit(n_splits=1, test_size=0.2, random_state=42)\n",
    "for train_index, test_index in split.split(general_data, general_data[\"Attrition\"]):\n",
    "    strat_train_set = general_data.loc[train_index]\n",
    "    strat_test_set = general_data.loc[test_index]\n"
   ]
  },
  {
   "cell_type": "code",
   "execution_count": null,
   "id": "a28b4ffb",
   "metadata": {},
   "outputs": [],
   "source": [
    "y_train = strat_train_set['Attrition']\n",
    "x_train = strat_train_set.drop('Attrition',axis=1)"
   ]
  },
  {
   "cell_type": "code",
   "execution_count": null,
   "id": "3dd54929-952b-4b0d-85e2-e1981e175573",
   "metadata": {},
   "outputs": [],
   "source": [
    "y_test = strat_test_set['Attrition']\n",
    "x_test = strat_test_set.drop('Attrition',axis=1)"
   ]
  },
  {
   "cell_type": "code",
   "execution_count": null,
   "id": "de897b8a",
   "metadata": {},
   "outputs": [],
   "source": [
    "x_train.isna().sum()"
   ]
  },
  {
   "cell_type": "markdown",
   "id": "a20d0ae2",
   "metadata": {
    "jp-MarkdownHeadingCollapsed": true,
    "tags": []
   },
   "source": [
    "## Stochastic Gradient chkoupi "
   ]
  },
  {
   "cell_type": "code",
   "execution_count": null,
   "id": "b4c388ed",
   "metadata": {},
   "outputs": [],
   "source": [
    "sgd_clf = SGDClassifier(max_iter=500, random_state=42)\n",
    "sgd_clf.fit(x_train, y_train)\n",
    "y_train_pred = cross_val_predict(sgd_clf, x_train, y_train, cv=5)\n",
    "print(\"precision : \" + str(precision_score(y_train, y_train_pred))[2:4] + \"%\")\n",
    "print(\"recall : \" + str(recall_score(y_train, y_train_pred))[2:4] + \"%\")\n",
    "print('F1 : ' + str(f1_score(y_train, y_train_pred))[2:4] + \"%\")\n",
    "print('Accuracy : ' + str(accuracy_score(y_train, y_train_pred))[2:4] + \"%\")\n",
    "cm = sn.heatmap(confusion_matrix(y_train, y_train_pred),\n",
    "                annot=True, vmax=150, fmt=\".0f\")\n",
    "cm.set_xlabel('Predicted labels')\n",
    "cm.set_ylabel('True labels')\n",
    "y_scores_sgd = cross_val_predict(\n",
    "    sgd_clf, x_train, y_train, cv=5, method=\"decision_function\")\n",
    "precisions, recalls, thresholds = precision_recall_curve(y_train, y_scores_sgd)\n",
    "fig, ax = plt.subplots()\n",
    "ax.plot(thresholds, precisions[:-1], \"b-\", label=\"Precision\", linewidth=2)\n",
    "ax.plot(thresholds, recalls[:-1], \"g-\", label=\"Recall\", linewidth=2)\n",
    "ax.set_xlabel(\"Threshold\", fontsize=16)\n",
    "ax.legend(loc=\"upper left\", fontsize=16)\n",
    "ax.set_ylim([0, 1])\n",
    "plt.show()\n",
    "fpr_sdg,tpr_sdg, thresholds = roc_curve(y_train, y_scores_sgd)\n",
    "plot_roc_curve(fpr_sdg, tpr_sdg, \"SDG\")\n"
   ]
  },
  {
   "cell_type": "code",
   "execution_count": null,
   "id": "24e4b9a3",
   "metadata": {},
   "outputs": [],
   "source": [
    "y_test_pred_sgd = sgd_clf.predict(x_test)\n",
    "y_test_scores_sgd = sgd_clf\n",
    "# y_test_pred_sgd = y_test_pred_sgd > best_threshold_sgd\n",
    "print(\"precision : \" +\n",
    "      \"{:.2f}\".format(precision_score(y_test, y_test_pred_sgd)*100), \"%\")\n",
    "print(\"recall : \" +\n",
    "      \"{:.2f}\".format(recall_score(y_test, y_test_pred_sgd)*100), \"%\")\n",
    "print('F1 : ' + \"{:.2f}\".format(f1_score(y_test, y_test_pred_sgd)*100), \"%\")\n",
    "print('Accuracy : ' +\n",
    "      \"{:.2f}\".format(accuracy_score(y_test, y_test_pred_sgd)*100), \"%\")\n",
    "fpr_sgd,tpr_sgd, thresholds = roc_curve(y_train, y_scores_sgd)\n",
    "plot_roc_curve(fpr_sgd, tpr_sgd, \"SDG\")\n"
   ]
  },
  {
   "cell_type": "code",
   "execution_count": null,
   "id": "855f0b2c",
   "metadata": {},
   "outputs": [],
   "source": [
    "param_grid_sgd = {\n",
    "    'alpha': [1e-4, 1e-3, 1e-2, 1e-1, 1e0, 1e1, 1e2, 1e3],\n",
    "    'loss': ['hinge', 'log', 'modified_huber', 'squared_hinge', 'perceptron'],\n",
    "    'penalty': ['l1', 'l2', 'elasticnet'],\n",
    "    'max_iter': [200,300,400,500],\n",
    "    'tol': [1e-4, 1e-3, 1e-2, 1e-1, 1e0, 1e1, 1e2, 1e3],\n",
    "}\n",
    "\n",
    "grid_search_sgd = GridSearchCV(sgd_clf, param_grid_sgd, cv=7,\n",
    "                                  scoring='accuracy', return_train_score=True)\n",
    "grid_search_sgd.fit(x_train, y_train)\n"
   ]
  },
  {
   "cell_type": "code",
   "execution_count": null,
   "id": "cdae42b2",
   "metadata": {},
   "outputs": [],
   "source": [
    "sgd_clf = grid_search_sgd.best_estimator_\n",
    "print(sgd_clf)\n",
    "y_pred_sgd = cross_val_predict(sgd_clf, x_train, y_train, cv=5)\n",
    "print(\"precision : \" +\n",
    "      \"{:.2f}\".format(precision_score(y_train, y_pred_sgd)*100), \"%\")\n",
    "print(\"recall : \" +\n",
    "      \"{:.2f}\".format(recall_score(y_train, y_pred_sgd)*100), \"%\")\n",
    "print('F1 : ' + \"{:.2f}\".format(f1_score(y_train, y_pred_sgd)*100), \"%\")\n",
    "print('Accuracy : ' +\n",
    "      \"{:.2f}\".format(accuracy_score(y_train, y_pred_sgd)*100), \"%\")\n",
    "\n",
    "cm = sn.heatmap(confusion_matrix(y_train, y_pred_sgd), annot=True, vmax=150 , fmt=\".0f\")\n",
    "cm.set_xlabel('Predicted labels')\n",
    "cm.set_ylabel('True labels')\n",
    "y_scores_sgd = cross_val_predict(sgd_clf, x_train, y_train, cv=5,method='decision_function')\n",
    "\n",
    "precisions_sgd, recalls_sgd, thresholds_sgd = precision_recall_curve(\n",
    "    y_train, y_scores_sgd)\n",
    "fig, ax = plt.subplots()\n",
    "ax.plot(thresholds_sgd, precisions_sgd[:-1],\n",
    "        \"b-\", label=\"Precision\", linewidth=2)\n",
    "ax.plot(thresholds_sgd,\n",
    "        recalls_sgd[:-1], \"g-\", label=\"Recall\", linewidth=2)\n",
    "ax.set_xlabel(\"Threshold\", fontsize=16)\n",
    "ax.legend(loc=\"upper left\", fontsize=16)\n",
    "ax.set_ylim([0, 1.5])\n",
    "ax.set_xlim([-6, 2])\n",
    "plt.show()\n",
    "fpr_sgd,tpr_sgd, thresholds = roc_curve(y_train, y_scores_sgd)\n",
    "plot_roc_curve(fpr_sgd,tpr_sgd, \"SDG\")\n"
   ]
  },
  {
   "cell_type": "code",
   "execution_count": null,
   "id": "b3b8d7dc",
   "metadata": {},
   "outputs": [],
   "source": [
    "y_test_pred_sgd = sgd_clf.predict(x_test)\n",
    "y_test_scores_sgd = sgd_clf.decision_function(x_test)\n",
    "y_test_pred_sgd = y_test_scores_sgd > 1.18\n",
    "print(\"precision : \" +\n",
    "      \"{:.2f}\".format(precision_score(y_test, y_test_pred_sgd)*100), \"%\")\n",
    "print(\"recall : \" +\n",
    "      \"{:.2f}\".format(recall_score(y_test, y_test_pred_sgd)*100), \"%\")\n",
    "print('F1 : ' + \"{:.2f}\".format(f1_score(y_test, y_test_pred_sgd)*100), \"%\")\n",
    "print('Accuracy : ' +\n",
    "      \"{:.2f}\".format(accuracy_score(y_test, y_test_pred_sgd)*100), \"%\")\n",
    "fpr_sgd,tpr_sgd, thresholds = roc_curve(y_train, y_scores_sgd)\n",
    "plot_roc_curve(fpr_sgd,tpr_sgd, \"SDG\")\n",
    "\n"
   ]
  },
  {
   "cell_type": "markdown",
   "id": "53cc72d9",
   "metadata": {
    "jp-MarkdownHeadingCollapsed": true,
    "tags": []
   },
   "source": [
    "## Random Forest"
   ]
  },
  {
   "cell_type": "code",
   "execution_count": null,
   "id": "97999abb",
   "metadata": {},
   "outputs": [],
   "source": [
    "from sklearn.ensemble import RandomForestClassifier\n",
    "forest_clf = RandomForestClassifier(n_estimators=25, random_state=42)\n",
    "forest_clf.fit(x_train,y_train)\n",
    "y_pred_forest = cross_val_predict(forest_clf, x_train, y_train, cv=5)\n",
    "print(\"precision : \" + \"{:.2f}\".format(precision_score(y_train, y_pred_forest)*100) , \"%\")\n",
    "print(\"recall : \" + \"{:.2f}\".format(recall_score(y_train, y_pred_forest)*100) , \"%\")\n",
    "print('F1 : ' + \"{:.2f}\".format(f1_score(y_train, y_pred_forest)*100) , \"%\")\n",
    "print('Accuracy : ' + \"{:.2f}\".format(accuracy_score(y_train, y_pred_forest)*100) , \"%\")\n",
    "\n",
    "cm = sn.heatmap(confusion_matrix(y_train, y_pred_forest),\n",
    "                annot=True, vmax=150, fmt=\".0f\")\n",
    "cm.set_xlabel('Predicted labels')\n",
    "cm.set_ylabel('True labels')\n",
    "\n",
    "\n",
    "y_scores_forest = cross_val_predict(\n",
    "    forest_clf, x_train, y_train.tolist(), cv=5, method=\"predict_proba\")\n",
    "\n",
    "y_scores_forest = y_scores_forest[:, 1]\n",
    "precisions_forest, recalls_forest, thresholds_forest = precision_recall_curve(\n",
    "    y_train, y_scores_forest)\n",
    "fig, ax = plt.subplots()\n",
    "\n",
    "ax.plot(thresholds_forest, precisions_forest[:-1],\n",
    "         \"b-\", label=\"Precision\", linewidth=2)\n",
    "ax.plot(thresholds_forest,\n",
    "         recalls_forest[:-1], \"g-\", label=\"Recall\", linewidth=2)\n",
    "ax.set_xlabel(\"Threshold\", fontsize=16)\n",
    "ax.legend(loc=\"upper left\", fontsize=16)\n",
    "ax.set_ylim([0, 1.5])\n",
    "ax.set_xlim([0, 1])\n",
    "plt.show()\n",
    "tpr_forest, fpr_forest, thresholds = roc_curve(y_train, y_scores_forest)\n",
    "plot_roc_curve(tpr_forest, fpr_forest, \"random forest\")\n"
   ]
  },
  {
   "cell_type": "code",
   "execution_count": null,
   "id": "c6b425be",
   "metadata": {},
   "outputs": [],
   "source": [
    "param_grid_forest = {\n",
    "    'n_estimators': [350,400,500],\n",
    "    'max_depth': [ 20, 30, 40]\n",
    "}\n",
    "\n",
    "grid_search_forest = GridSearchCV(forest_clf, param_grid_forest, cv=10,\n",
    "                               scoring='accuracy', return_train_score=True)\n",
    "grid_search_forest.fit(x_train, y_train)\n"
   ]
  },
  {
   "cell_type": "code",
   "execution_count": null,
   "id": "24fd1d9f",
   "metadata": {},
   "outputs": [],
   "source": [
    "forest_clf = grid_search_forest.best_estimator_\n",
    "print(forest_clf)\n",
    "y_pred_forest = cross_val_predict(forest_clf, x_train, y_train, cv=10)\n",
    "print(\"precision : \" + \"{:.2f}\".format(precision_score(y_train, y_pred_forest)*100), \"%\")\n",
    "print(\"recall : \" + \"{:.2f}\".format(recall_score(y_train, y_pred_forest)*100), \"%\")\n",
    "print('F1 : ' + \"{:.2f}\".format(f1_score(y_train, y_pred_forest)*100), \"%\")\n",
    "print('Accuracy : ' + \"{:.2f}\".format(accuracy_score(y_train, y_pred_forest)*100), \"%\")\n",
    "\n",
    "cm = sn.heatmap(confusion_matrix(y_train, y_pred_forest),\n",
    "                annot=True, vmax=150, fmt=\".0f\")\n",
    "cm.set_xlabel('Predicted labels')\n",
    "cm.set_ylabel('True labels')\n",
    "\n",
    "y_scores_forest = cross_val_predict(\n",
    "    forest_clf, x_train, y_train.tolist(), cv=5, method=\"predict_proba\")\n",
    "\n",
    "y_scores_forest = y_scores_forest[:, 1]\n",
    "precisions_forest, recalls_forest, thresholds_forest = precision_recall_curve(\n",
    "    y_train, y_scores_forest)\n",
    "\n",
    "fig, ax = plt.subplots()\n",
    "ax.plot(thresholds_forest, precisions_forest[:-1],\n",
    "         \"b-\", label=\"Precision\", linewidth=2)\n",
    "ax.plot(thresholds_forest,\n",
    "         recalls_forest[:-1], \"g-\", label=\"Recall\", linewidth=2)\n",
    "ax.set_xlabel(\"Threshold\", fontsize=16)\n",
    "ax.legend(loc=\"upper left\", fontsize=16)\n",
    "ax.set_ylim([0, 1.5])\n",
    "ax.set_xlim([0.1, 0.9])\n",
    "plt.show()\n",
    "fpr_forest,tpr_forest, thresholds = roc_curve(y_train, y_scores_forest)\n",
    "plot_roc_curve(fpr_forest,tpr_forest, \"random forest\")\n"
   ]
  },
  {
   "cell_type": "code",
   "execution_count": null,
   "id": "226265a1",
   "metadata": {},
   "outputs": [],
   "source": [
    "y_test_pred_forest = forest_clf.predict(x_test)\n",
    "y_test_scores_forest = forest_clf.predict_proba(x_test)\n",
    "# y_test_pred_forest = y_test_scores_forest[:,-1] > 0.\n",
    "print(\"precision : \" +\n",
    "      \"{:.2f}\".format(precision_score(y_test, y_test_pred_forest)*100), \"%\")\n",
    "print(\"recall : \" +\n",
    "      \"{:.2f}\".format(recall_score(y_test, y_test_pred_forest)*100), \"%\")\n",
    "print('F1 : ' + \"{:.2f}\".format(f1_score(y_test, y_test_pred_forest)*100), \"%\")\n",
    "print('Accuracy : ' +\n",
    "      \"{:.2f}\".format(accuracy_score(y_test, y_test_pred_forest)*100), \"%\")\n",
    "fpr_forest,tpr_forest, thresholds = roc_curve(y_train, y_scores_forest)\n",
    "plot_roc_curve(fpr_forest,tpr_forest, \"SDG\")"
   ]
  },
  {
   "cell_type": "markdown",
   "id": "482dc947",
   "metadata": {
    "jp-MarkdownHeadingCollapsed": true,
    "tags": []
   },
   "source": [
    "## Logistic Regression"
   ]
  },
  {
   "cell_type": "code",
   "execution_count": null,
   "id": "d29c9a84",
   "metadata": {},
   "outputs": [],
   "source": [
    "from sklearn.linear_model import LogisticRegression\n",
    "\n",
    "logreg = LogisticRegression(max_iter=1000,random_state=42)\n",
    "y_pred_logreg = cross_val_predict(logreg,x_train,y_train,cv=5)\n",
    "print(\"precision : \" + str(precision_score(y_train, y_pred_logreg))[2:4] + \"%\")\n",
    "print(\"recall : \" + str(recall_score(y_train, y_pred_logreg))[2:4] + \"%\")\n",
    "print('F1 : ' + str(f1_score(y_train, y_pred_logreg))[2:4] + \"%\")\n",
    "print('Accuracy : ' + str(accuracy_score(y_train, y_pred_logreg))[2:4] + \"%\")\n",
    "y_scores_logreg = cross_val_predict(\n",
    "    logreg, x_train, y_train, cv=5, method=\"decision_function\")\n",
    "precisions_logreg, recalls_logreg, thresholds_logreg = precision_recall_curve(\n",
    "    y_train, y_scores_logreg)\n",
    "\n",
    "plt.plot(thresholds_logreg, precisions_logreg[:-1],\n",
    "         \"b-\", label=\"Precision\", linewidth=2)\n",
    "plt.plot(thresholds_logreg,\n",
    "         recalls_logreg[:-1], \"g-\", label=\"Recall\", linewidth=2)\n",
    "plt.xlabel(\"Threshold\", fontsize=16)\n",
    "plt.legend(loc=\"upper left\", fontsize=16)\n",
    "plt.ylim([0, 1])\n",
    "plt.show()\n",
    "fpr_logreg,tpr_logreg, thresholds = roc_curve(y_train, y_scores_logreg)\n",
    "plot_roc_curve(fpr_logreg,tpr_logreg, \"logistic regression\")"
   ]
  },
  {
   "cell_type": "code",
   "execution_count": null,
   "id": "ee7b74f1",
   "metadata": {},
   "outputs": [],
   "source": [
    "param_grid_logreg = {\n",
    "    'penalty': ['l1', 'l2', 'elasticnet'],\n",
    "    'C': [0.1, 0.01,0.001],\n",
    "    'max_iter':[100,150,200,500]\n",
    "}\n",
    "grid_search_logreg = GridSearchCV(logreg, param_grid_logreg, cv=5,scoring='accuracy', return_train_score=True)\n",
    "grid_search_logreg.fit(x_train, y_train)\n"
   ]
  },
  {
   "cell_type": "code",
   "execution_count": null,
   "id": "b11375ef",
   "metadata": {},
   "outputs": [],
   "source": [
    "logreg = grid_search_logreg.best_estimator_\n",
    "print(logreg)\n",
    "y_pred_logreg = cross_val_predict(logreg, x_train, y_train, cv=5)\n",
    "print(\"precision : \" +\n",
    "      \"{:.2f}\".format(precision_score(y_train, y_pred_logreg)*100), \"%\")\n",
    "print(\"recall : \" +\n",
    "      \"{:.2f}\".format(recall_score(y_train, y_pred_logreg)*100), \"%\")\n",
    "print('F1 : ' + \"{:.2f}\".format(f1_score(y_train, y_pred_logreg)*100), \"%\")\n",
    "print('Accuracy : ' +\n",
    "      \"{:.2f}\".format(accuracy_score(y_train, y_pred_logreg)*100), \"%\")\n",
    "\n",
    "cm = sn.heatmap(confusion_matrix(y_train, y_pred_logreg),\n",
    "                annot=True, vmax=150, fmt=\".0f\")\n",
    "cm.set_xlabel('Predicted labels')\n",
    "cm.set_ylabel('True labels')\n",
    "\n",
    "\n",
    "y_scores_logreg = cross_val_predict(\n",
    "    logreg, x_train, y_train.tolist(), cv=5, method=\"predict_proba\")\n",
    "\n",
    "y_scores_logreg = y_scores_logreg[:, 1]\n",
    "precisions_logreg, recalls_logreg, thresholds_logreg = precision_recall_curve(\n",
    "    y_train, y_scores_logreg)\n",
    "\n",
    "fig, ax = plt.subplots()\n",
    "ax.plot(thresholds_logreg, precisions_logreg[:-1],\n",
    "        \"b-\", label=\"Precision\", linewidth=2)\n",
    "ax.plot(thresholds_logreg,\n",
    "        recalls_logreg[:-1], \"g-\", label=\"Recall\", linewidth=2)\n",
    "ax.set_xlabel(\"Threshold\", fontsize=16)\n",
    "ax.legend(loc=\"upper left\", fontsize=16)\n",
    "ax.set_ylim([0, 1.5])\n",
    "ax.set_xlim([0, 0.9])\n",
    "plt.show()\n",
    "fpr_logreg, tpr_logreg, thresholds = roc_curve(y_train, y_scores_logreg)\n",
    "plot_roc_curve(fpr_logreg, tpr_logreg, \"log reg\")\n"
   ]
  },
  {
   "cell_type": "code",
   "execution_count": null,
   "id": "ff4d32eb",
   "metadata": {},
   "outputs": [],
   "source": [
    "y_test_pred_logreg = logreg.predict(x_test)\n",
    "y_test_scores_logreg = logreg.predict_proba(x_test)\n",
    "# y_test_pred_logreg = y_test_scores_logreg[:,-1] > 0.8\n",
    "print(\"precision : \" +\n",
    "      \"{:.2f}\".format(precision_score(y_test, y_test_pred_logreg)*100), \"%\")\n",
    "print(\"recall : \" +\n",
    "      \"{:.2f}\".format(recall_score(y_test, y_test_pred_logreg)*100), \"%\")\n",
    "print('F1 : ' + \"{:.2f}\".format(f1_score(y_test, y_test_pred_logreg)*100), \"%\")\n",
    "print('Accuracy : ' +\n",
    "      \"{:.2f}\".format(accuracy_score(y_test, y_test_pred_logreg)*100), \"%\")\n",
    "fpr_logreg,tpr_logreg, thresholds = roc_curve(y_train, y_scores_logreg)\n",
    "plot_roc_curve(fpr_logreg,tpr_logreg, \"SDG\")"
   ]
  },
  {
   "cell_type": "markdown",
   "id": "546fb3e0",
   "metadata": {
    "jp-MarkdownHeadingCollapsed": true,
    "tags": []
   },
   "source": [
    "## Decision Tree"
   ]
  },
  {
   "cell_type": "code",
   "execution_count": null,
   "id": "c0f02aec",
   "metadata": {},
   "outputs": [],
   "source": [
    "from sklearn.tree import DecisionTreeClassifier\n",
    "\n",
    "dtc = DecisionTreeClassifier(random_state=42, max_features=40, criterion=\"gini\")\n",
    "dtc.fit(x_train,y_train)\n",
    "y_pred_dtc = cross_val_predict(dtc,x_train,y_train,cv=5)\n",
    "print(\"Precision : \" + \"{:.2f}\".format(precision_score(y_train, y_pred_dtc)*100), \"%\")\n",
    "print(\"Recall : \" + \"{:.2f}\".format(recall_score(y_train, y_pred_dtc)*100), \"%\")\n",
    "print('F1 : ' + \"{:.2f}\".format(f1_score(y_train, y_pred_dtc)*100), \"%\")\n",
    "print('Accuracy : ' + \"{:.2f}\".format(accuracy_score(y_train, y_pred_dtc)*100), \"%\")\n",
    "\n",
    "cm = sn.heatmap(confusion_matrix(y_train, y_pred_dtc), annot=True, vmax=150 , fmt=\".0f\")\n",
    "cm.set_xlabel('Predicted labels')\n",
    "cm.set_ylabel('True labels')\n",
    "y_scores_dtc = cross_val_predict(\n",
    "    dtc, x_train, y_train, cv=5, method=\"predict_proba\")\n",
    "y_scores_dtc = y_scores_dtc[:, 1]\n",
    "precisions_dtc, recalls_dtc, thresholds_dtc = precision_recall_curve(\n",
    "    y_train, y_scores_dtc)\n",
    "fig, ax = plt.subplots()\n",
    "ax.plot(thresholds_dtc, precisions_dtc[:-1],\n",
    "         \"b-\", label=\"Precision\", linewidth=2)\n",
    "ax.plot(thresholds_dtc,\n",
    "         recalls_dtc[:-1], \"g-\", label=\"Recall\", linewidth=2)\n",
    "ax.set_xlabel(\"Threshold\", fontsize=16)\n",
    "ax.legend(loc=\"lower right\", fontsize=16)\n",
    "ax.set_ylim([0, 1.25])\n",
    "ax.set_xlim([0, 1])\n",
    "plt.show()\n",
    "fpr_dtc,tpr_dtc, thresholds = roc_curve(y_train, y_scores_dtc)\n",
    "plot_roc_curve(fpr_dtc,tpr_dtc, \"decision tree\")"
   ]
  },
  {
   "cell_type": "code",
   "execution_count": null,
   "id": "c61c8a27",
   "metadata": {
    "collapsed": true,
    "jupyter": {
     "outputs_hidden": true
    },
    "tags": []
   },
   "outputs": [],
   "source": [
    "param_grid_dtc = {\n",
    "    'max_depth': [4, 5, 7,10],\n",
    "    'min_samples_split': [1,2, 5, 10],\n",
    "    'min_samples_leaf': [1, 2, 4,5],\n",
    "    'max_features': list(range(5, 40))\n",
    "}\n",
    "\n",
    "grid_search_dtc = GridSearchCV(dtc, param_grid_dtc, cv=5,\n",
    "                               scoring='accuracy', return_train_score=True)\n",
    "grid_search_dtc.fit(x_train, y_train)\n"
   ]
  },
  {
   "cell_type": "code",
   "execution_count": null,
   "id": "8400bcd9",
   "metadata": {},
   "outputs": [],
   "source": [
    "dtc = grid_search_dtc.best_estimator_\n",
    "print(dtc)\n",
    "y_pred_dtc = cross_val_predict(dtc, x_train, y_train, cv=5)\n",
    "print(\"precision : \" +\n",
    "      \"{:.2f}\".format(precision_score(y_train, y_pred_dtc)*100), \"%\")\n",
    "print(\"recall : \" +\n",
    "      \"{:.2f}\".format(recall_score(y_train, y_pred_dtc)*100), \"%\")\n",
    "print('F1 : ' + \"{:.2f}\".format(f1_score(y_train, y_pred_dtc)*100), \"%\")\n",
    "print('Accuracy : ' +\n",
    "      \"{:.2f}\".format(accuracy_score(y_train, y_pred_dtc)*100), \"%\")\n",
    "\n",
    "cm = sn.heatmap(confusion_matrix(y_train, y_pred_dtc), annot=True, vmax=150 , fmt=\".0f\")\n",
    "cm.set_xlabel('Predicted labels')\n",
    "cm.set_ylabel('True labels')\n",
    "\n",
    "y_scores_dtc = cross_val_predict(\n",
    "    dtc, x_train, y_train.tolist(), cv=5, method=\"predict_proba\")\n",
    "\n",
    "y_scores_dtc = y_scores_dtc[:, 1]\n",
    "precisions_dtc, recalls_dtc, thresholds_dtc = precision_recall_curve(\n",
    "    y_train, y_scores_dtc)\n",
    "\n",
    "fig, ax = plt.subplots()\n",
    "ax.plot(thresholds_dtc, precisions_dtc[:-1],\n",
    "        \"b-\", label=\"Precision\", linewidth=2)\n",
    "ax.plot(thresholds_dtc,\n",
    "        recalls_dtc[:-1], \"g-\", label=\"Recall\", linewidth=2)\n",
    "ax.set_xlabel(\"Threshold\", fontsize=16)\n",
    "ax.legend(loc=\"upper left\", fontsize=16)\n",
    "ax.set_ylim([0, 1.5])\n",
    "ax.set_xlim([0, 1])\n",
    "plt.show()\n",
    "fpr_dtc, tpr_dtc, thresholds = roc_curve(y_train, y_scores_dtc)\n",
    "plot_roc_curve(fpr_dtc, tpr_dtc, \"Decision Tree\")\n"
   ]
  },
  {
   "cell_type": "code",
   "execution_count": null,
   "id": "07006ce9",
   "metadata": {},
   "outputs": [],
   "source": [
    "y_test_pred_dtc = dtc.predict(x_test)\n",
    "y_test_scores_dtc = dtc.predict_proba(x_test)\n",
    "y_test_pred_dtc = y_test_scores_dtc[:,-1] > 0.9\n",
    "\n",
    "print(\"precision : \" +\n",
    "      \"{:.2f}\".format(precision_score(y_test, y_test_pred_dtc)*100), \"%\")\n",
    "print(\"recall : \" +\n",
    "      \"{:.2f}\".format(recall_score(y_test, y_test_pred_dtc)*100), \"%\")\n",
    "print('F1 : ' + \"{:.2f}\".format(f1_score(y_test, y_test_pred_dtc)*100), \"%\")\n",
    "print('Accuracy : ' +\n",
    "      \"{:.2f}\".format(accuracy_score(y_test, y_test_pred_dtc)*100), \"%\")\n",
    "fpr_dtc,tpr_dtc, thresholds = roc_curve(y_train, y_scores_dtc)\n",
    "plot_roc_curve(fpr_dtc,tpr_dtc, \"Decision Tree\")"
   ]
  },
  {
   "cell_type": "markdown",
   "id": "6fec4ccc",
   "metadata": {
    "tags": []
   },
   "source": [
    "## SVC"
   ]
  },
  {
   "cell_type": "code",
   "execution_count": null,
   "id": "edc98955",
   "metadata": {},
   "outputs": [],
   "source": [
    "from sklearn.svm import SVC\n",
    "\n",
    "svc = SVC(random_state=42, C=1 ,probability=True)\n",
    "svc.fit(x_train,y_train)\n",
    "y_pred_svc = cross_val_predict(svc,x_train,y_train,cv=5)\n",
    "print(\"Precision : \" + \"{:.2f}\".format(precision_score(y_train, y_pred_svc)*100), \"%\")\n",
    "print(\"Recall : \" + \"{:.2f}\".format(recall_score(y_train, y_pred_svc)*100), \"%\")\n",
    "print('F1 : ' + \"{:.2f}\".format(f1_score(y_train, y_pred_svc)*100), \"%\")\n",
    "print('Accuracy : ' + \"{:.2f}\".format(accuracy_score(y_train, y_pred_svc)*100), \"%\")\n",
    "\n",
    "cm = sn.heatmap(confusion_matrix(y_train, y_pred_svc),\n",
    "                annot=True, vmax=150, fmt=\".0f\")\n",
    "cm.set_xlabel('Predicted labels')\n",
    "cm.set_ylabel('True labels')\n",
    "y_scores_svc = cross_val_predict(\n",
    "    svc, x_train, y_train, cv=5, method=\"predict_proba\")\n",
    "y_scores_svc = y_scores_svc[:, 1]\n",
    "precisions_svc, recalls_svc, thresholds_svc = precision_recall_curve(\n",
    "    y_train, y_scores_svc)\n",
    "fig, ax = plt.subplots()\n",
    "ax.plot(thresholds_svc, precisions_svc[:-1],\n",
    "         \"b-\", label=\"Precision\", linewidth=2)\n",
    "ax.plot(thresholds_svc,\n",
    "         recalls_svc[:-1], \"g-\", label=\"Recall\", linewidth=2)\n",
    "ax.set_xlabel(\"Threshold\", fontsize=16)\n",
    "ax.legend(loc=\"lower right\", fontsize=16)\n",
    "ax.set_ylim([0, 1.25])\n",
    "ax.set_xlim([0, 1])\n",
    "plt.show()\n",
    "fpr_svc,tpr_svc, thresholds = roc_curve(y_train, y_scores_svc)\n",
    "plot_roc_curve(fpr_svc,tpr_svc, \"decision tree\")"
   ]
  },
  {
   "cell_type": "code",
   "execution_count": null,
   "id": "65aae642",
   "metadata": {},
   "outputs": [],
   "source": [
    "param_grid_svc = {\n",
    "        'C': [10,100,150],\n",
    "}\n",
    "\n",
    "grid_search_svc = GridSearchCV(svc, param_grid_svc, cv=5,\n",
    "                               scoring='accuracy', return_train_score=True)\n",
    "grid_search_svc.fit(x_train, y_train)\n"
   ]
  },
  {
   "cell_type": "code",
   "execution_count": null,
   "id": "dee49a85",
   "metadata": {},
   "outputs": [],
   "source": [
    "svc = grid_search_svc.best_estimator_\n",
    "print(svc)\n",
    "y_pred_svc = cross_val_predict(svc, x_train, y_train, cv=5)\n",
    "print(\"precision : \" +\n",
    "      \"{:.2f}\".format(precision_score(y_train, y_pred_svc)*100), \"%\")\n",
    "print(\"recall : \" +\n",
    "      \"{:.2f}\".format(recall_score(y_train, y_pred_svc)*100), \"%\")\n",
    "print('F1 : ' + \"{:.2f}\".format(f1_score(y_train, y_pred_svc)*100), \"%\")\n",
    "print('Accuracy : ' +\n",
    "      \"{:.2f}\".format(accuracy_score(y_train, y_pred_svc)*100), \"%\")\n",
    "\n",
    "cm = sn.heatmap(confusion_matrix(y_train, y_pred_svc),\n",
    "                annot=True, vmax=150, fmt=\".0f\")\n",
    "cm.set_xlabel('Predicted labels')\n",
    "cm.set_ylabel('True labels')\n",
    "\n",
    "y_scores_svc = cross_val_predict(\n",
    "    svc, x_train, y_train.tolist(), cv=5, method=\"predict_proba\")\n",
    "\n",
    "y_scores_svc = y_scores_svc[:, 1]\n",
    "precisions_svc, recalls_svc, thresholds_svc = precision_recall_curve(\n",
    "    y_train, y_scores_svc)\n",
    "\n",
    "fig, ax = plt.subplots()\n",
    "ax.plot(thresholds_svc, precisions_svc[:-1],\n",
    "        \"b-\", label=\"Precision\", linewidth=2)\n",
    "ax.plot(thresholds_svc,\n",
    "        recalls_svc[:-1], \"g-\", label=\"Recall\", linewidth=2)\n",
    "ax.set_xlabel(\"Threshold\", fontsize=16)\n",
    "ax.legend(loc=\"upper left\", fontsize=16)\n",
    "ax.set_ylim([0, 1.5])\n",
    "ax.set_xlim([0, 1])\n",
    "plt.show()\n",
    "fpr_svc, tpr_svc, thresholds = roc_curve(y_train, y_scores_svc)\n",
    "plot_roc_curve(fpr_svc, tpr_svc, \"SVC\")\n"
   ]
  },
  {
   "cell_type": "code",
   "execution_count": null,
   "id": "fe58ae80",
   "metadata": {},
   "outputs": [],
   "source": [
    "best_threshold_svc = 0.5"
   ]
  },
  {
   "cell_type": "code",
   "execution_count": null,
   "id": "830c79af",
   "metadata": {},
   "outputs": [],
   "source": [
    "y_test_pred_svc = svc.predict(x_test)\n",
    "y_test_scores_svc = svc.predict_proba(x_test)\n",
    "y_test_pred_svc = y_test_scores_svc[:, -1] > best_threshold_svc\n",
    "\n",
    "print(\"precision : \" +\n",
    "      \"{:.2f}\".format(precision_score(y_test, y_test_pred_svc)*100), \"%\")\n",
    "print(\"recall : \" +\n",
    "      \"{:.2f}\".format(recall_score(y_test, y_test_pred_svc)*100), \"%\")\n",
    "print('F1 : ' + \"{:.2f}\".format(f1_score(y_test, y_test_pred_svc)*100), \"%\")\n",
    "print('Accuracy : ' +\n",
    "      \"{:.2f}\".format(accuracy_score(y_test, y_test_pred_svc)*100), \"%\")\n",
    "fpr_svc,tpr_svc, thresholds = roc_curve(y_train, y_scores_svc)\n",
    "plot_roc_curve(fpr_svc,tpr_svc, \"SVC\")"
   ]
  },
  {
   "cell_type": "markdown",
   "id": "e6d41d51",
   "metadata": {},
   "source": [
    "## Comparer les modeles"
   ]
  },
  {
   "cell_type": "code",
   "execution_count": null,
   "id": "7559395f",
   "metadata": {},
   "outputs": [],
   "source": [
    "plot_roc_curve(fpr_sgd,tpr_sgd, \"Gradient\")\n",
    "plot_roc_curve(fpr_logreg,tpr_logreg, \"LOG Reg\")\n",
    "plot_roc_curve(fpr_forest,tpr_forest, \"RFC\")\n",
    "plot_roc_curve(fpr_dtc,tpr_dtc, \"DTC\")\n",
    "plot_roc_curve(fpr_svc,tpr_svc, \"SVC\")\n",
    "plt.figure(figsize=(50,50))"
   ]
  },
  {
   "cell_type": "code",
   "execution_count": null,
   "id": "d02e96a7",
   "metadata": {},
   "outputs": [],
   "source": [
    "model_names = ['SGD','forest', 'LOG Reg', 'DTC','SVC']\n"
   ]
  },
  {
   "cell_type": "code",
   "execution_count": null,
   "id": "0647e201",
   "metadata": {},
   "outputs": [],
   "source": [
    "# graph accuracy bar\n",
    "# \n",
    "\n",
    "\n",
    "accuracies = [\n",
    "    85.83,\n",
    "    99.43,\n",
    "    85.49,\n",
    "    94.56,\n",
    "    99.09\n",
    "]\n",
    "plt.bar(model_names, accuracies)\n",
    "\n",
    "# Set the title and axis labels\n",
    "plt.title('Model Accuracies')\n",
    "plt.xlabel('Model')\n",
    "plt.ylabel('Accuracy')\n",
    "\n",
    "# Display the plot\n",
    "plt.show()"
   ]
  },
  {
   "cell_type": "code",
   "execution_count": null,
   "id": "12190e08",
   "metadata": {},
   "outputs": [],
   "source": [
    "# graph recall bar\n",
    "\n",
    "recalls = [\n",
    "    15.49,\n",
    "    96.48,\n",
    "    23.24,\n",
    "    76.06,\n",
    "    97.89\n",
    "]\n",
    "plt.bar(model_names, recalls)\n",
    "\n",
    "# Set the title and axis labels\n",
    "plt.title('Model recalls')\n",
    "plt.xlabel('Model')\n",
    "plt.ylabel('recalls')\n",
    "\n",
    "# Display the plot\n",
    "plt.show()\n"
   ]
  },
  {
   "cell_type": "code",
   "execution_count": null,
   "id": "b010b3bb",
   "metadata": {},
   "outputs": [],
   "source": [
    "# graph F1  bar\n",
    "f1s = [\n",
    "    26.04,\n",
    "    98.21,\n",
    "    34.02,\n",
    "    81.82,\n",
    "    97.20\n",
    "]\n",
    "plt.bar(model_names, recalls)\n",
    "\n",
    "# Set the title and axis labels\n",
    "plt.title('Model F1')\n",
    "plt.xlabel('Model')\n",
    "plt.ylabel('F1')\n",
    "\n",
    "# Display the plot\n",
    "plt.show()\n"
   ]
  },
  {
   "cell_type": "code",
   "execution_count": null,
   "id": "8b6b0091",
   "metadata": {},
   "outputs": [],
   "source": [
    "# graph precision bar\n",
    "precisions = [\n",
    "    81.48,\n",
    "    100,\n",
    "    63.46,\n",
    "    88.52,\n",
    "    96.53,\n",
    "]\n",
    "\n",
    "plt.bar(model_names, recalls)\n",
    "\n",
    "# Set the title and axis labels\n",
    "plt.title('Model precisions')\n",
    "plt.xlabel('Model')\n",
    "plt.ylabel('Precision')\n",
    "\n",
    "# Display the plot\n",
    "plt.show()\n"
   ]
  },
  {
   "cell_type": "markdown",
   "id": "da338516",
   "metadata": {},
   "source": [
    "## determiner les parametres les plus influent"
   ]
  },
  {
   "cell_type": "code",
   "execution_count": null,
   "id": "459a9a81",
   "metadata": {},
   "outputs": [],
   "source": [
    "support_vectors = svc.support_vectors_\n"
   ]
  },
  {
   "cell_type": "code",
   "execution_count": 161,
   "id": "0d8ba1ba",
   "metadata": {
    "tags": []
   },
   "outputs": [
    {
     "data": {
      "text/plain": [
       "Text(0.5, 0, 'Permutation Importance')"
      ]
     },
     "execution_count": 161,
     "metadata": {},
     "output_type": "execute_result"
    },
    {
     "data": {
      "image/png": "[encoded data removed]",
      "text/plain": [
       "<Figure size 720x1440 with 1 Axes>"
      ]
     },
     "metadata": {
      "needs_background": "light"
     },
     "output_type": "display_data"
    }
   ],
   "source": [
    "from sklearn.inspection import permutation_importance\n",
    "perm_importance = permutation_importance(forest_clf, x_test, y_test)\n",
    "feature_names = x_test.columns\n",
    "features = np.array(feature_names)\n",
    "sorted_idx = perm_importance.importances_mean.argsort()\n",
    "plt.figure(figsize=(10, 20))\n",
    "plt.barh(features[sorted_idx], perm_importance.importances_mean[sorted_idx])\n",
    "#plt.xticks(rotation=45)\n",
    "plt.xlabel(\"Permutation Importance\")\n"
   ]
  },
  {
   "cell_type": "markdown",
   "id": "36aa9ab4",
   "metadata": {
    "tags": []
   },
   "source": [
    "## Appliquer des modifications au dataset de base"
   ]
  },
  {
   "cell_type": "markdown",
   "id": "61561361",
   "metadata": {},
   "source": []
  },
  {
   "cell_type": "code",
   "execution_count": 164,
   "id": "13318c8a",
   "metadata": {},
   "outputs": [
    {
     "name": "stdout",
     "output_type": "stream",
     "text": [
      "avant:  16.10 %\n",
      "apres:  9.30 %\n"
     ]
    },
    {
     "data": {
      "image/png": "[encoded data removed]",
      "text/plain": [
       "<Figure size 432x288 with 1 Axes>"
      ]
     },
     "metadata": {
      "needs_background": "light"
     },
     "output_type": "display_data"
    }
   ],
   "source": [
    "x_test_age_reduced = x_test.copy()\n",
    "x_test_age_reduced['Age'] = x_test['Age'] * 0.8\n",
    "x_test_age_reduced['TotalWorkingYears'] = x_test['TotalWorkingYears']*0.8\n",
    "x_test_age_reduced['worked_hour'] = x_test['worked_hour']*0.8\n",
    "x_test_age_reduced['additional_hour'] = x_test['additional_hour']*0.5\n",
    "# x_test_age_reduced['NumCompaniesWorked'] = x_test['NumCompaniesWorked']\n",
    "y_test_age_reduced = forest_clf.predict(x_test_age_reduced)\n",
    "\n",
    "df = pd.DataFrame()\n",
    "df['x'] = np.concatenate((y_test_age_reduced, y_test))\n",
    "df['hue'] = np.concatenate(\n",
    "    (np.full(len(y_test_age_reduced), 'reduced'), np.full(len(y_test), 'original')))\n",
    "ax = sn.countplot(data=df, x='x', hue='hue')\n",
    "for container in ax.containers:\n",
    "    ax.bar_label(container)\n",
    "# Add a legend to the plot\n",
    "plt.legend()\n",
    "print(\"avant: \",\"{:.2f}\".format(np.count_nonzero(y_test)*100/len(y_test)),\"%\")\n",
    "print(\"apres: \",\"{:.2f}\".format(np.count_nonzero(y_test_age_reduced)*100/len(y_test_age_reduced)),\"%\")\n"
   ]
  }
 ],
 "metadata": {
  "kernelspec": {
   "display_name": "Python 3 (ipykernel)",
   "language": "python",
   "name": "python3"
  },
  "language_info": {
   "codemirror_mode": {
    "name": "ipython",
    "version": 3
   },
   "file_extension": ".py",
   "mimetype": "text/x-python",
   "name": "python",
   "nbconvert_exporter": "python",
   "pygments_lexer": "ipython3",
   "version": "3.9.12"
  },
  "vscode": {
   "interpreter": {
    "hash": "ad2bdc8ecc057115af97d19610ffacc2b4e99fae6737bb82f5d7fb13d2f2c186"
   }
  }
 },
 "nbformat": 4,
 "nbformat_minor": 5
}
